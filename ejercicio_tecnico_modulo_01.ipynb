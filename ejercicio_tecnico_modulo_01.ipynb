{
 "cells": [
  {
   "cell_type": "markdown",
   "metadata": {},
   "source": [
    "# EVALUACION FINAL MODULO 1\n",
    "## Ejercicio: *TIENDA ONLINE*"
   ]
  },
  {
   "cell_type": "markdown",
   "metadata": {},
   "source": [
    "1. clase: tienda online\n",
    "-crear clase \n",
    "-Debemos pensar en que propiedades (lo que serán los atributos que definan a una mascota en concreto) estamos interesados. Todos las propiedades o atributos en los que estamos interesados- constructor\n",
    "-Instanciar un objeto\n",
    "-definimos nuestro primer método\n"
   ]
  },
  {
   "cell_type": "markdown",
   "metadata": {},
   "source": [
    "creamos instancias para comprobar la class:\n",
    "\n",
    "\n",
    "inventario:[{\"nombre\": \"Leche\", \"precio\": 2.5, \"cantidad\": 10},  \n",
    "            {\"nombre\": \"Pan\", \"precio\": 1.0, \"cantidad\": 20},\n",
    "            {\"nombre\": \"Manzanas\", \"precio\": 0.5, \"cantidad\": 30},\n",
    "            {\"nombre\": \"Arroz\", \"precio\": 1.2, \"cantidad\": 15},\n",
    "            {\"nombre\": \"Huevos\", \"precio\": 3.0, \"cantidad\": 12}]\n",
    "\n",
    "\n",
    "clientes:{'Marina':{'email':'marina@email.com, 'compras':[]},\n",
    "          'Teresa':{'email':'teresa@email.com, 'compras':[]}\n",
    "          'Pedro':{'email':'pedro@email.com, 'compras':[]}\n",
    "          'Oscar':{'email':'oscar@email.com, 'compras':[]}}"
   ]
  },
  {
   "cell_type": "code",
   "execution_count": 10,
   "metadata": {},
   "outputs": [],
   "source": [
    "#creamos la clase:\n",
    "class TiendaOnline:\n",
    "#definimos nuestros parámetros, que determinan las características de nuestra tienda:\n",
    "    def __init__(self,inventario=[],clientes={},ventas_totales=0):\n",
    "        self.inventario=inventario\n",
    "        self.clientes=clientes\n",
    "        self.ventas_totales=ventas_totales\n",
    "\n",
    "        #creamos los métodos:\n",
    "    def agregar_productos(self,nombre_producto,precio=0,cantidad=0):\n",
    "\n",
    "        self.nombre_producto=nombre_producto\n",
    "        self.precio=precio\n",
    "        self.cantidad=cantidad\n",
    "        \n",
    "        for d in self.inventario:\n",
    "            \n",
    "            if d['nombre'] == self.nombre_producto:    #buscamos en cada d(diccionarios de la lista) si coincide con el producto que buscamos\n",
    "                print(f'{self.nombre_producto} está en el inventario')\n",
    "                print('Actualizando...')\n",
    "                d['cantidad']=self.cantidad             #si está. modificamos la cantidad por la del atributo.\n",
    "                return f'producto modificado:{d}'\n",
    "                break                 #paramos el ciclo for si hay coincidencia en inventario.\n",
    "            else:\n",
    "                print(f'{nombre_producto} no está en inventario.')\n",
    "                print('Añadiendo a inventario...')\n",
    "                diccionario_producto_nuevo={'nombre':self.nombre_producto, 'precio':self.precio,'cantidad':self.cantidad} #creamos un diccionario con los nuevos atributos\n",
    "                self.inventario.append(diccionario_producto_nuevo)             #añadimos al diccionario\n",
    "                return f'Producto añadido {diccionario_producto_nuevo}'\n",
    "                break             #paramos el ciclo for.\n",
    "            \n",
    "    def ver_inventario(self):\n",
    "        for d in self.inventario:\n",
    "           print(f\"Nombre: {d['nombre']}, Precio: {d['precio']} €, Cantidad: {d['cantidad']}\")\n",
    "        return  #imprimimos cada diccionario en la lista de inventarios.\n",
    "            \n",
    "    def buscar_productos(self,nombre_producto):\n",
    "        self.nombre_producto=nombre_producto #definimos los atributos\n",
    "        for d in self.inventario:\n",
    "\n",
    "            if d['nombre'] == self.nombre_producto: #buscamos en cada valor de 'nombre' en nuestros diccionarios\n",
    "                return f\"Nombre: {d['nombre']}, Precio: {d['precio']} €, Cantidad: {d['cantidad']}\"     \n",
    "                break                                     #si está, imprimimos el diccionario donde se encuentra.\n",
    "            else:\n",
    "                return f'No está ese producto en inventario'\n",
    "                break\n",
    "    \n",
    "    def actualizar_stock(self,nombre_producto,cantidad):\n",
    "        self.nombre_producto=nombre_producto\n",
    "        self.cantidad=cantidad                  #definimos los atributos \n",
    "        for d in self.inventario:                   #localizamos el producto en el inventario, y sustituimos el valor por otros nuevos:\n",
    "            if d['nombre'] == self.nombre_producto:\n",
    "                d['cantidad']=self.cantidad\n",
    "                return f'producto modificado:{d}'\n",
    "            else:\n",
    "                return 'No está en inventario'\n",
    "        \n",
    "    def eliminar_producto(self, nombre_producto):\n",
    "        self.nombre_producto= nombre_producto\n",
    "        for d in self.inventario:\n",
    "            if d['nombre'] == self.nombre_producto:     #localizamos el producto en el inventario.\n",
    "                #eliminamos por incide .pop:\n",
    "                inde_d_producto=self.inventario.index(d) #localizamos el índice del diccionario d en la lista:\n",
    "                self.inventario.pop(inde_d_producto) #eliminamos todo el diccionario d.\n",
    "            else:\n",
    "                return 'No está el producto en inventario'\n",
    "    \n",
    "    def calcular_valor_inventraio(self):\n",
    "        valor_inventario=float(sum(valor_producto),2) #creamos una variable que nos de la suma total de los valores producto\n",
    "        valor_producto=[] #creamos una lista donde metemos el valor todal de cada producto en el inventario \n",
    "        for d in self.inventario:\n",
    "            valor_d= (d['precios'])*(d['cantidad'])\n",
    "            valor_producto.append(valor_d)\n",
    "        return f'El valor total del inventario es: {valor_inventario}'\n",
    "\n",
    "   "
   ]
  },
  {
   "cell_type": "code",
   "execution_count": 2,
   "metadata": {},
   "outputs": [],
   "source": [
    "#Llamamos a la clase\n",
    "producto8=TiendaOnline([{\"nombre\": \"rucula\", \"precio\": 2.5, \"cantidad\": 10}])"
   ]
  },
  {
   "cell_type": "code",
   "execution_count": 3,
   "metadata": {},
   "outputs": [
    {
     "name": "stdout",
     "output_type": "stream",
     "text": [
      "rucula está en el inventario\n",
      "Actualizando...\n"
     ]
    },
    {
     "data": {
      "text/plain": [
       "[{'nombre': 'rucula', 'precio': 2.5, 'cantidad': 19}]"
      ]
     },
     "execution_count": 3,
     "metadata": {},
     "output_type": "execute_result"
    }
   ],
   "source": [
    "#miramos si los atributos de producto8 estan: En este caso, están\n",
    "producto8.agregar_productos('rucula',2.5,19)\n",
    "producto8.inventario"
   ]
  },
  {
   "cell_type": "code",
   "execution_count": 4,
   "metadata": {},
   "outputs": [
    {
     "name": "stdout",
     "output_type": "stream",
     "text": [
      "leche no está en inventario.\n",
      "Añadiendo a inventario...\n"
     ]
    },
    {
     "data": {
      "text/plain": [
       "\"Producto añadido {'nombre': 'leche', 'precio': 2.5, 'cantidad': 10}\""
      ]
     },
     "execution_count": 4,
     "metadata": {},
     "output_type": "execute_result"
    }
   ],
   "source": [
    "#miramos si los atributos de producto 8 están: En este caso, no están\n",
    "producto8.agregar_productos('leche',2.5,10)"
   ]
  },
  {
   "cell_type": "code",
   "execution_count": 5,
   "metadata": {},
   "outputs": [
    {
     "data": {
      "text/plain": [
       "[{'nombre': 'rucula', 'precio': 2.5, 'cantidad': 19},\n",
       " {'nombre': 'leche', 'precio': 2.5, 'cantidad': 10}]"
      ]
     },
     "execution_count": 5,
     "metadata": {},
     "output_type": "execute_result"
    }
   ],
   "source": [
    "#revisamos nuestro inventario actual:\n",
    "producto8.inventario"
   ]
  },
  {
   "cell_type": "code",
   "execution_count": 11,
   "metadata": {},
   "outputs": [
    {
     "name": "stdout",
     "output_type": "stream",
     "text": [
      "Nombre: rucula, Precio: 2.5 €, Cantidad: 19\n"
     ]
    }
   ],
   "source": [
    "#vemos los productos en nuestro inventario:\n",
    "producto8.ver_inventario()"
   ]
  },
  {
   "cell_type": "code",
   "execution_count": null,
   "metadata": {},
   "outputs": [],
   "source": [
    "#buscamos un producto:\n",
    "producto8.buscar_productos('leche')"
   ]
  },
  {
   "cell_type": "code",
   "execution_count": null,
   "metadata": {},
   "outputs": [],
   "source": [
    "producto8.actualizar_stock('leche',50)\n"
   ]
  },
  {
   "cell_type": "code",
   "execution_count": null,
   "metadata": {},
   "outputs": [],
   "source": [
    "#LISTA PARA PROBAR EL EJERCICIO\n",
    "\n",
    "inventario:[{\"nombre\": \"Leche\", \"precio\": 2.5, \"cantidad\": 10},  \n",
    "            {\"nombre\": \"Pan\", \"precio\": 1.0, \"cantidad\": 20},\n",
    "            {\"nombre\": \"Manzanas\", \"precio\": 0.5, \"cantidad\": 30},\n",
    "            {\"nombre\": \"Arroz\", \"precio\": 1.2, \"cantidad\": 15},\n",
    "            {\"nombre\": \"Huevos\", \"precio\": 3.0, \"cantidad\": 12}]\n",
    "\n",
    "clientes:{'Marina':{'email':'marina@email.com','compras':[]},\n",
    "          'Teresa':{'email':'teresa@email.com','compras':[]},\n",
    "          'Pedro':{'email':'pedro@email.com', 'compras':[]},\n",
    "          'Oscar':{'email':'oscar@email.com','compras':[]}}\n",
    "\n"
   ]
  },
  {
   "cell_type": "code",
   "execution_count": null,
   "metadata": {},
   "outputs": [],
   "source": [
    "#PARA CONTINUAR CON EL EJERCICIO 10, DECIDIMOS CREAR UNA SUBCLASE PARA DEFINIR LOS NUEVOS ATRIBUTOS \n",
    "#creamos una subclase de la anterior para seguir operando con los métodos ya definidos:"
   ]
  },
  {
   "cell_type": "code",
   "execution_count": null,
   "metadata": {},
   "outputs": [],
   "source": [
    "#SIN TERMINAR\n",
    "\n",
    "\n",
    "class Proceso_compra(TiendaOnline):\n",
    "    def __init__(self, nombre,email, carrito, inventario, clientes):\n",
    "        super().__init__(inventario,clientes)\n",
    "        self.nombre=nombre\n",
    "        self.email=email\n",
    "        self.carrito=carrito\n",
    " \n",
    "    def realizar_compra(self):\n",
    "\n",
    "         while producto['cantida']>0:\n",
    "\n",
    "\n",
    "        #llamamos a la funcion que nos da todo el inventario:\n",
    "            print('El inventario actual es:')\n",
    "            compra1.ver_inventario()\n",
    "        #preguntamos al usuario qué producto desea comprar:\n",
    "            nombre=str((input('Seleccione el producto que desea comprar')).lower())\n",
    "        #buscamos el producto en el inventario:\n",
    "            compra.1.buscar_producto(nombre)\n",
    "        #actualizamos invetario:\n",
    "            compra1.actualizar_stock()\n",
    "            carrito.append(producto)\n",
    "            cantidad-=1\n",
    "        \n",
    "        \n",
    "\n",
    "    "
   ]
  },
  {
   "cell_type": "code",
   "execution_count": null,
   "metadata": {},
   "outputs": [],
   "source": [
    "\n",
    "    def procesar_pago(self):\n",
    "    def agregar_clientes(self,nombre,email):\n",
    "        self.nombre=nombre\n",
    "        self.email=email\n",
    "    def ver_clientes(self):\n",
    "    def registrar_compra(self,nombre_cliente,carrito):\n",
    "        self.nombre_cliente=nombre_cliente\n",
    "        self.carrito=carrito\n",
    "    def ver_compra_cliente(self,nombre_cliente):\n",
    "        self.nombre_cliente\n",
    "    def calcular_ventas_totales(self):\n"
   ]
  }
 ],
 "metadata": {
  "kernelspec": {
   "display_name": "base",
   "language": "python",
   "name": "python3"
  },
  "language_info": {
   "codemirror_mode": {
    "name": "ipython",
    "version": 3
   },
   "file_extension": ".py",
   "mimetype": "text/x-python",
   "name": "python",
   "nbconvert_exporter": "python",
   "pygments_lexer": "ipython3",
   "version": "3.9.7"
  }
 },
 "nbformat": 4,
 "nbformat_minor": 2
}

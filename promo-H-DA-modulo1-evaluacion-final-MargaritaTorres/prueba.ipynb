{
 "cells": [
  {
   "cell_type": "code",
   "execution_count": 20,
   "metadata": {},
   "outputs": [],
   "source": [
    "#creamos la clase:\n",
    "class TiendaOnline:\n",
    "#definimos nuestros parámetros, que determinan las características de nuestra tienda:\n",
    "    def __init__(self,inventario=[],clientes={},ventas_totales=0):\n",
    "        self.inventario=inventario\n",
    "        self.clientes=clientes\n",
    "        self.ventas_totales=ventas_totales\n",
    "\n",
    "        #creamos los métodos:\n",
    "    def agregar_productos(self,nombre_producto,precio=0,cantidad=0):\n",
    "\n",
    "        self.nombre_producto=nombre_producto\n",
    "        self.precio=precio\n",
    "        self.cantidad=cantidad\n",
    "        \n",
    "\n",
    "\n",
    "        for d in self.inventario:\n",
    "            print(d)\n",
    "\n",
    "            if d['nombre'] == self.nombre_producto:\n",
    "                print(f'{self.nombre_producto} está en el inventario')\n",
    "                print('Actualizando...')\n",
    "                d['nombre']= self.nombre_producto\n",
    "                d['precio']=self.precio\n",
    "                d['cantidad']=self.cantidad\n",
    "                return f'producto modificado:\\n{d}'\n",
    "            else:\n",
    "                print(f'{nombre_producto} no está en inventario.')\n",
    "                print('Añadiendo a inventario...')\n",
    "                dcionario_producto_nuevo={'nombre':self.nombre, 'precio':self.precio,'cantidad':self.cantidad}\n",
    "                self.inventario.append(dcionario_producto_nuevo)\n",
    "                return self.inventario\n",
    "            "
   ]
  },
  {
   "cell_type": "code",
   "execution_count": 21,
   "metadata": {},
   "outputs": [],
   "source": [
    "producto1=TiendaOnline()"
   ]
  },
  {
   "cell_type": "code",
   "execution_count": 22,
   "metadata": {},
   "outputs": [],
   "source": [
    "producto1.agregar_productos([{'nombre':'leche', 'precio':2.5,'cantidad':4}])"
   ]
  },
  {
   "cell_type": "code",
   "execution_count": null,
   "metadata": {},
   "outputs": [],
   "source": [
    " else:\n",
    "                #print(f'{nombre_producto} no está en inventario.')\n",
    "                #print('Añadiendo a inventario...')\n",
    "                #dcionario_producto_nuevo={'nombre':self.nombre_producto, 'precio':self.precio,'cantidad':self.cantidad}\n",
    "                #self.inventario.append(dicionario_producto_nuevo)\n",
    "                return self.inventario"
   ]
  },
  {
   "cell_type": "code",
   "execution_count": null,
   "metadata": {},
   "outputs": [],
   "source": [
    "   if self.b: \n",
    "        for d in self.inventario:\n",
    "           \n",
    "                print(f'{nombre_producto} no está en inventario.')\n",
    "                #print('Añadiendo a inventario...')\n",
    "                #dcionario_producto_nuevo={'nombre':self.nombre_producto, 'precio':self.precio,'cantidad':self.cantidad}\n",
    "                #self.inventario.append(dicionario_producto_nuevo)\n",
    "            \n",
    "            if d['nombre'] == self.nombre_producto:\n",
    "                print(f'{self.nombre_producto} está en el inventario')\n",
    "                print('Actualizando...')\n",
    "                d['cantidad']=self.cantidad\n",
    "                return f'producto modificado:{d}'\n",
    "                self.b=False\n",
    "                break"
   ]
  }
 ],
 "metadata": {
  "kernelspec": {
   "display_name": "base",
   "language": "python",
   "name": "python3"
  },
  "language_info": {
   "codemirror_mode": {
    "name": "ipython",
    "version": 3
   },
   "file_extension": ".py",
   "mimetype": "text/x-python",
   "name": "python",
   "nbconvert_exporter": "python",
   "pygments_lexer": "ipython3",
   "version": "3.9.7"
  }
 },
 "nbformat": 4,
 "nbformat_minor": 2
}
